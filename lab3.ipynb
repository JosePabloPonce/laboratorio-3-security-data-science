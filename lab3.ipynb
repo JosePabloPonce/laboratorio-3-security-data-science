{
 "cells": [
  {
   "cell_type": "code",
   "execution_count": 23,
   "metadata": {},
   "outputs": [],
   "source": [
    "import pandas as pd\n",
    "import numpy as np\n",
    "import re\n",
    "from collections import Counter\n",
    "from sklearn import feature_extraction, tree, model_selection, metrics\n",
    "import matplotlib.pyplot as plt\n",
    "import matplotlib\n",
    "import seaborn as sns\n",
    "%matplotlib inline\n",
    "from yellowbrick.features import Rank2D\n",
    "from yellowbrick.features import RadViz\n",
    "from sklearn.ensemble import RandomForestClassifier\n",
    "from sklearn.model_selection import cross_val_score\n",
    "from sklearn.model_selection import KFold\n",
    "from sklearn.preprocessing import MinMaxScaler\n",
    "from sklearn.feature_extraction.text import TfidfVectorizer\n",
    "from sklearn.model_selection import train_test_split\n",
    "from sklearn import svm\n",
    "from sklearn.metrics import confusion_matrix, precision_score, recall_score, f1_score, classification_report, accuracy_score"
   ]
  },
  {
   "attachments": {},
   "cell_type": "markdown",
   "metadata": {},
   "source": [
    "## Exploracion de Datos"
   ]
  },
  {
   "cell_type": "code",
   "execution_count": 2,
   "metadata": {},
   "outputs": [],
   "source": [
    "df = pd.read_csv('VirusSample.csv') "
   ]
  },
  {
   "cell_type": "code",
   "execution_count": 3,
   "metadata": {},
   "outputs": [
    {
     "data": {
      "text/html": [
       "<div>\n",
       "<style scoped>\n",
       "    .dataframe tbody tr th:only-of-type {\n",
       "        vertical-align: middle;\n",
       "    }\n",
       "\n",
       "    .dataframe tbody tr th {\n",
       "        vertical-align: top;\n",
       "    }\n",
       "\n",
       "    .dataframe thead th {\n",
       "        text-align: right;\n",
       "    }\n",
       "</style>\n",
       "<table border=\"1\" class=\"dataframe\">\n",
       "  <thead>\n",
       "    <tr style=\"text-align: right;\">\n",
       "      <th></th>\n",
       "      <th>file</th>\n",
       "      <th>api</th>\n",
       "      <th>class</th>\n",
       "    </tr>\n",
       "  </thead>\n",
       "  <tbody>\n",
       "    <tr>\n",
       "      <th>9333</th>\n",
       "      <td>77efa9f801039186ce4999950b61839c70b56a81</td>\n",
       "      <td>GetProcAddress,GetModuleHandleA,LoadLibraryA,G...</td>\n",
       "      <td>Worms</td>\n",
       "    </tr>\n",
       "    <tr>\n",
       "      <th>9364</th>\n",
       "      <td>66a7cc1523444f6d3f8f50ed1be659c92a1b71ff0f96fa...</td>\n",
       "      <td>GetCursor,SendMessageTimeoutW,SHGetSpecialFold...</td>\n",
       "      <td>Virus</td>\n",
       "    </tr>\n",
       "    <tr>\n",
       "      <th>4505</th>\n",
       "      <td>d629f863bbb2398407c01f69cc53615244e3bd72</td>\n",
       "      <td>LCMapStringA,LoadLibraryA,GetProcAddress,FreeL...</td>\n",
       "      <td>Trojan</td>\n",
       "    </tr>\n",
       "    <tr>\n",
       "      <th>4680</th>\n",
       "      <td>a5417a7485e4474aebd200ed399e3283425bf420</td>\n",
       "      <td>LoadLibraryA,GetProcAddress,VirtualProtect,Vir...</td>\n",
       "      <td>Trojan</td>\n",
       "    </tr>\n",
       "    <tr>\n",
       "      <th>9062</th>\n",
       "      <td>6341281901a9887a7a342341460919afb99c20cb</td>\n",
       "      <td>TlsSetValue,TlsGetValue,LocalAlloc,GetModuleHa...</td>\n",
       "      <td>Worms</td>\n",
       "    </tr>\n",
       "  </tbody>\n",
       "</table>\n",
       "</div>"
      ],
      "text/plain": [
       "                                                   file  \\\n",
       "9333           77efa9f801039186ce4999950b61839c70b56a81   \n",
       "9364  66a7cc1523444f6d3f8f50ed1be659c92a1b71ff0f96fa...   \n",
       "4505           d629f863bbb2398407c01f69cc53615244e3bd72   \n",
       "4680           a5417a7485e4474aebd200ed399e3283425bf420   \n",
       "9062           6341281901a9887a7a342341460919afb99c20cb   \n",
       "\n",
       "                                                    api   class  \n",
       "9333  GetProcAddress,GetModuleHandleA,LoadLibraryA,G...   Worms  \n",
       "9364  GetCursor,SendMessageTimeoutW,SHGetSpecialFold...   Virus  \n",
       "4505  LCMapStringA,LoadLibraryA,GetProcAddress,FreeL...  Trojan  \n",
       "4680  LoadLibraryA,GetProcAddress,VirtualProtect,Vir...  Trojan  \n",
       "9062  TlsSetValue,TlsGetValue,LocalAlloc,GetModuleHa...   Worms  "
      ]
     },
     "execution_count": 3,
     "metadata": {},
     "output_type": "execute_result"
    }
   ],
   "source": [
    "df.sample(n=5).head()"
   ]
  },
  {
   "cell_type": "code",
   "execution_count": 4,
   "metadata": {},
   "outputs": [
    {
     "data": {
      "text/plain": [
       "array(['Virus', 'Riskware', 'Spyware', 'Downloader', 'Dropper', 'Agent',\n",
       "       'Adware', 'Trojan', 'Backdoor', 'Worms', 'Ransomware', 'Keylogger',\n",
       "       'Crypt'], dtype=object)"
      ]
     },
     "execution_count": 4,
     "metadata": {},
     "output_type": "execute_result"
    }
   ],
   "source": [
    "df[\"class\"].unique()"
   ]
  },
  {
   "cell_type": "code",
   "execution_count": 5,
   "metadata": {},
   "outputs": [
    {
     "name": "stdout",
     "output_type": "stream",
     "text": [
      "Virus: 2367\n",
      "Riskware: 4\n",
      "Spyware: 11\n",
      "Downloader: 31\n",
      "Dropper: 4\n",
      "Agent: 102\n",
      "Adware: 222\n",
      "Trojan: 6153\n",
      "Backdoor: 447\n",
      "Worms: 441\n",
      "Ransomware: 10\n",
      "Keylogger: 1\n",
      "Crypt: 2\n"
     ]
    }
   ],
   "source": [
    "print('Virus:', len(df[df['class']=='Virus']))\n",
    "print('Riskware:', len(df[df['class']=='Riskware']))\n",
    "print('Spyware:', len(df[df['class']=='Spyware']))\n",
    "print('Downloader:', len(df[df['class']=='Downloader']))\n",
    "print('Dropper:', len(df[df['class']=='Dropper']))\n",
    "print('Agent:', len(df[df['class']=='Agent']))\n",
    "print('Adware:', len(df[df['class']=='Adware']))\n",
    "print('Trojan:', len(df[df['class']=='Trojan']))\n",
    "print('Backdoor:', len(df[df['class']=='Backdoor']))\n",
    "print('Worms:', len(df[df['class']=='Worms']))\n",
    "print('Ransomware:', len(df[df['class']=='Ransomware']))\n",
    "print('Keylogger:', len(df[df['class']=='Keylogger']))\n",
    "print('Crypt:', len(df[df['class']=='Crypt']))"
   ]
  },
  {
   "cell_type": "code",
   "execution_count": 6,
   "metadata": {},
   "outputs": [
    {
     "data": {
      "text/plain": [
       "<AxesSubplot:xlabel='class', ylabel='count'>"
      ]
     },
     "execution_count": 6,
     "metadata": {},
     "output_type": "execute_result"
    },
    {
     "data": {
      "image/png": "[encoded data removed]",
      "text/plain": [
       "<Figure size 576x396 with 1 Axes>"
      ]
     },
     "metadata": {},
     "output_type": "display_data"
    }
   ],
   "source": [
    "sns.countplot(x=df['class'], data=df)"
   ]
  },
  {
   "attachments": {},
   "cell_type": "markdown",
   "metadata": {},
   "source": [
    "## Preprocesamiento"
   ]
  },
  {
   "cell_type": "code",
   "execution_count": 7,
   "metadata": {},
   "outputs": [],
   "source": [
    "newClasses = ['Virus', 'Agent', 'Adware', 'Trojan', 'Backdoor', 'Worms','Downloader']\n",
    "df = df.loc[df[\"class\"].isin(newClasses)]"
   ]
  },
  {
   "cell_type": "code",
   "execution_count": 8,
   "metadata": {},
   "outputs": [],
   "source": [
    "df2 = df.copy()"
   ]
  },
  {
   "cell_type": "code",
   "execution_count": 9,
   "metadata": {},
   "outputs": [
    {
     "data": {
      "text/html": [
       "<div>\n",
       "<style scoped>\n",
       "    .dataframe tbody tr th:only-of-type {\n",
       "        vertical-align: middle;\n",
       "    }\n",
       "\n",
       "    .dataframe tbody tr th {\n",
       "        vertical-align: top;\n",
       "    }\n",
       "\n",
       "    .dataframe thead th {\n",
       "        text-align: right;\n",
       "    }\n",
       "</style>\n",
       "<table border=\"1\" class=\"dataframe\">\n",
       "  <thead>\n",
       "    <tr style=\"text-align: right;\">\n",
       "      <th></th>\n",
       "      <th>file</th>\n",
       "      <th>api</th>\n",
       "      <th>class</th>\n",
       "    </tr>\n",
       "  </thead>\n",
       "  <tbody>\n",
       "    <tr>\n",
       "      <th>0</th>\n",
       "      <td>7ff49f2f0912352416b05c010f35f402cc79feed</td>\n",
       "      <td>IntersectRect,GetCurrentProcess,GetVersion</td>\n",
       "      <td>Virus</td>\n",
       "    </tr>\n",
       "    <tr>\n",
       "      <th>1</th>\n",
       "      <td>50cc6c99ec285d0db45dde07d8fdc18d9098c5b6</td>\n",
       "      <td>GetCaretBlinkTime,CountClipboardFormats,GetCon...</td>\n",
       "      <td>Virus</td>\n",
       "    </tr>\n",
       "    <tr>\n",
       "      <th>2</th>\n",
       "      <td>f77c6bd4aebacd1a01d02e0cb20642ebf2d32929</td>\n",
       "      <td>VarR8Pow,GetClipboardViewer,GetInputDesktop,Ge...</td>\n",
       "      <td>Virus</td>\n",
       "    </tr>\n",
       "    <tr>\n",
       "      <th>3</th>\n",
       "      <td>349c367c5b88fbb6cafae5d7109588d7250e16b5</td>\n",
       "      <td>SetTraceCallback,CopyAcceleratorTableW,GetProc...</td>\n",
       "      <td>Virus</td>\n",
       "    </tr>\n",
       "    <tr>\n",
       "      <th>4</th>\n",
       "      <td>021f4aa86b520e1d606ab26699c35546bcd00c27</td>\n",
       "      <td>SHLoadNonloadedIconOverlayIdentifiers,VarUI8Fr...</td>\n",
       "      <td>Virus</td>\n",
       "    </tr>\n",
       "    <tr>\n",
       "      <th>...</th>\n",
       "      <td>...</td>\n",
       "      <td>...</td>\n",
       "      <td>...</td>\n",
       "    </tr>\n",
       "    <tr>\n",
       "      <th>9790</th>\n",
       "      <td>3b91b43ad8a25a8e9e52f938473f5bb05fb4d530ff4b22...</td>\n",
       "      <td>NtResetWriteWatch,GetClipboardViewer,GetConsol...</td>\n",
       "      <td>Trojan</td>\n",
       "    </tr>\n",
       "    <tr>\n",
       "      <th>9791</th>\n",
       "      <td>54315d591d2855fc794ba5f61012efdd92b489576e4aa5...</td>\n",
       "      <td>RtlpNtEnumerateSubKey,NtFlushWriteBuffer,ReadC...</td>\n",
       "      <td>Trojan</td>\n",
       "    </tr>\n",
       "    <tr>\n",
       "      <th>9792</th>\n",
       "      <td>dcb7507fa10537d2e3da2ea22ec6346e02a0926ad64d76...</td>\n",
       "      <td>ZwNotifyChangeDirectoryFile,GetCursor,GetConso...</td>\n",
       "      <td>Trojan</td>\n",
       "    </tr>\n",
       "    <tr>\n",
       "      <th>9793</th>\n",
       "      <td>cf441d0a2de25c6207fc782e190ce5302171d5e28ce41b...</td>\n",
       "      <td>ILSaveToStream,OleQueryLinkFromData,VarUdateFr...</td>\n",
       "      <td>Trojan</td>\n",
       "    </tr>\n",
       "    <tr>\n",
       "      <th>9794</th>\n",
       "      <td>be7d4be8e48719257d6040c3e9a1f6f15bc2616ca22276...</td>\n",
       "      <td>SwitchToFiber,GetUserDefaultLCID,GetCurrentThr...</td>\n",
       "      <td>Trojan</td>\n",
       "    </tr>\n",
       "  </tbody>\n",
       "</table>\n",
       "<p>9763 rows × 3 columns</p>\n",
       "</div>"
      ],
      "text/plain": [
       "                                                   file  \\\n",
       "0              7ff49f2f0912352416b05c010f35f402cc79feed   \n",
       "1              50cc6c99ec285d0db45dde07d8fdc18d9098c5b6   \n",
       "2              f77c6bd4aebacd1a01d02e0cb20642ebf2d32929   \n",
       "3              349c367c5b88fbb6cafae5d7109588d7250e16b5   \n",
       "4              021f4aa86b520e1d606ab26699c35546bcd00c27   \n",
       "...                                                 ...   \n",
       "9790  3b91b43ad8a25a8e9e52f938473f5bb05fb4d530ff4b22...   \n",
       "9791  54315d591d2855fc794ba5f61012efdd92b489576e4aa5...   \n",
       "9792  dcb7507fa10537d2e3da2ea22ec6346e02a0926ad64d76...   \n",
       "9793  cf441d0a2de25c6207fc782e190ce5302171d5e28ce41b...   \n",
       "9794  be7d4be8e48719257d6040c3e9a1f6f15bc2616ca22276...   \n",
       "\n",
       "                                                    api   class  \n",
       "0            IntersectRect,GetCurrentProcess,GetVersion   Virus  \n",
       "1     GetCaretBlinkTime,CountClipboardFormats,GetCon...   Virus  \n",
       "2     VarR8Pow,GetClipboardViewer,GetInputDesktop,Ge...   Virus  \n",
       "3     SetTraceCallback,CopyAcceleratorTableW,GetProc...   Virus  \n",
       "4     SHLoadNonloadedIconOverlayIdentifiers,VarUI8Fr...   Virus  \n",
       "...                                                 ...     ...  \n",
       "9790  NtResetWriteWatch,GetClipboardViewer,GetConsol...  Trojan  \n",
       "9791  RtlpNtEnumerateSubKey,NtFlushWriteBuffer,ReadC...  Trojan  \n",
       "9792  ZwNotifyChangeDirectoryFile,GetCursor,GetConso...  Trojan  \n",
       "9793  ILSaveToStream,OleQueryLinkFromData,VarUdateFr...  Trojan  \n",
       "9794  SwitchToFiber,GetUserDefaultLCID,GetCurrentThr...  Trojan  \n",
       "\n",
       "[9763 rows x 3 columns]"
      ]
     },
     "execution_count": 9,
     "metadata": {},
     "output_type": "execute_result"
    }
   ],
   "source": [
    "df2[\"api\"].apply(lambda x: ' '.join(x.split(\",\")))\n",
    "df2"
   ]
  },
  {
   "cell_type": "code",
   "execution_count": 10,
   "metadata": {},
   "outputs": [],
   "source": [
    "clf = RandomForestClassifier(max_depth=12, random_state=42, n_estimators = 200)"
   ]
  },
  {
   "cell_type": "code",
   "execution_count": 11,
   "metadata": {},
   "outputs": [],
   "source": [
    "y = df[\"class\"]\n",
    "x = df2[['file','api']]"
   ]
  },
  {
   "cell_type": "code",
   "execution_count": 12,
   "metadata": {},
   "outputs": [],
   "source": [
    "tv = TfidfVectorizer(min_df=0.15, max_df=1., use_idf=True, ngram_range=(1,2))\n",
    "tv_matrix = tv.fit_transform(df2[\"api\"])\n",
    "tv_matrix_array = tv_matrix.toarray()\n",
    "vocabulary = tv.get_feature_names_out()\n",
    "X = pd.DataFrame(tv_matrix_array, columns=vocabulary)"
   ]
  },
  {
   "cell_type": "code",
   "execution_count": 13,
   "metadata": {},
   "outputs": [],
   "source": [
    "X_train, X_test, y_train, y_test = train_test_split(X, y, test_size=0.3, random_state=0)"
   ]
  },
  {
   "attachments": {},
   "cell_type": "markdown",
   "metadata": {},
   "source": [
    "## Random Forest"
   ]
  },
  {
   "cell_type": "code",
   "execution_count": 14,
   "metadata": {},
   "outputs": [
    {
     "data": {
      "text/html": [
       "<style>#sk-container-id-1 {color: black;background-color: white;}#sk-container-id-1 pre{padding: 0;}#sk-container-id-1 div.sk-toggleable {background-color: white;}#sk-container-id-1 label.sk-toggleable__label {cursor: pointer;display: block;width: 100%;margin-bottom: 0;padding: 0.3em;box-sizing: border-box;text-align: center;}#sk-container-id-1 label.sk-toggleable__label-arrow:before {content: \"▸\";float: left;margin-right: 0.25em;color: #696969;}#sk-container-id-1 label.sk-toggleable__label-arrow:hover:before {color: black;}#sk-container-id-1 div.sk-estimator:hover label.sk-toggleable__label-arrow:before {color: black;}#sk-container-id-1 div.sk-toggleable__content {max-height: 0;max-width: 0;overflow: hidden;text-align: left;background-color: #f0f8ff;}#sk-container-id-1 div.sk-toggleable__content pre {margin: 0.2em;color: black;border-radius: 0.25em;background-color: #f0f8ff;}#sk-container-id-1 input.sk-toggleable__control:checked~div.sk-toggleable__content {max-height: 200px;max-width: 100%;overflow: auto;}#sk-container-id-1 input.sk-toggleable__control:checked~label.sk-toggleable__label-arrow:before {content: \"▾\";}#sk-container-id-1 div.sk-estimator input.sk-toggleable__control:checked~label.sk-toggleable__label {background-color: #d4ebff;}#sk-container-id-1 div.sk-label input.sk-toggleable__control:checked~label.sk-toggleable__label {background-color: #d4ebff;}#sk-container-id-1 input.sk-hidden--visually {border: 0;clip: rect(1px 1px 1px 1px);clip: rect(1px, 1px, 1px, 1px);height: 1px;margin: -1px;overflow: hidden;padding: 0;position: absolute;width: 1px;}#sk-container-id-1 div.sk-estimator {font-family: monospace;background-color: #f0f8ff;border: 1px dotted black;border-radius: 0.25em;box-sizing: border-box;margin-bottom: 0.5em;}#sk-container-id-1 div.sk-estimator:hover {background-color: #d4ebff;}#sk-container-id-1 div.sk-parallel-item::after {content: \"\";width: 100%;border-bottom: 1px solid gray;flex-grow: 1;}#sk-container-id-1 div.sk-label:hover label.sk-toggleable__label {background-color: #d4ebff;}#sk-container-id-1 div.sk-serial::before {content: \"\";position: absolute;border-left: 1px solid gray;box-sizing: border-box;top: 0;bottom: 0;left: 50%;z-index: 0;}#sk-container-id-1 div.sk-serial {display: flex;flex-direction: column;align-items: center;background-color: white;padding-right: 0.2em;padding-left: 0.2em;position: relative;}#sk-container-id-1 div.sk-item {position: relative;z-index: 1;}#sk-container-id-1 div.sk-parallel {display: flex;align-items: stretch;justify-content: center;background-color: white;position: relative;}#sk-container-id-1 div.sk-item::before, #sk-container-id-1 div.sk-parallel-item::before {content: \"\";position: absolute;border-left: 1px solid gray;box-sizing: border-box;top: 0;bottom: 0;left: 50%;z-index: -1;}#sk-container-id-1 div.sk-parallel-item {display: flex;flex-direction: column;z-index: 1;position: relative;background-color: white;}#sk-container-id-1 div.sk-parallel-item:first-child::after {align-self: flex-end;width: 50%;}#sk-container-id-1 div.sk-parallel-item:last-child::after {align-self: flex-start;width: 50%;}#sk-container-id-1 div.sk-parallel-item:only-child::after {width: 0;}#sk-container-id-1 div.sk-dashed-wrapped {border: 1px dashed gray;margin: 0 0.4em 0.5em 0.4em;box-sizing: border-box;padding-bottom: 0.4em;background-color: white;}#sk-container-id-1 div.sk-label label {font-family: monospace;font-weight: bold;display: inline-block;line-height: 1.2em;}#sk-container-id-1 div.sk-label-container {text-align: center;}#sk-container-id-1 div.sk-container {/* jupyter's `normalize.less` sets `[hidden] { display: none; }` but bootstrap.min.css set `[hidden] { display: none !important; }` so we also need the `!important` here to be able to override the default hidden behavior on the sphinx rendered scikit-learn.org. See: https://github.com/scikit-learn/scikit-learn/issues/21755 */display: inline-block !important;position: relative;}#sk-container-id-1 div.sk-text-repr-fallback {display: none;}</style><div id=\"sk-container-id-1\" class=\"sk-top-container\"><div class=\"sk-text-repr-fallback\"><pre>RandomForestClassifier(max_depth=12, n_estimators=200, random_state=42)</pre><b>In a Jupyter environment, please rerun this cell to show the HTML representation or trust the notebook. <br />On GitHub, the HTML representation is unable to render, please try loading this page with nbviewer.org.</b></div><div class=\"sk-container\" hidden><div class=\"sk-item\"><div class=\"sk-estimator sk-toggleable\"><input class=\"sk-toggleable__control sk-hidden--visually\" id=\"sk-estimator-id-1\" type=\"checkbox\" checked><label for=\"sk-estimator-id-1\" class=\"sk-toggleable__label sk-toggleable__label-arrow\">RandomForestClassifier</label><div class=\"sk-toggleable__content\"><pre>RandomForestClassifier(max_depth=12, n_estimators=200, random_state=42)</pre></div></div></div></div></div>"
      ],
      "text/plain": [
       "RandomForestClassifier(max_depth=12, n_estimators=200, random_state=42)"
      ]
     },
     "execution_count": 14,
     "metadata": {},
     "output_type": "execute_result"
    }
   ],
   "source": [
    "clf.fit(X_train, y_train)"
   ]
  },
  {
   "cell_type": "code",
   "execution_count": 15,
   "metadata": {},
   "outputs": [],
   "source": [
    "predictions= clf.predict(X_test)"
   ]
  },
  {
   "cell_type": "code",
   "execution_count": 16,
   "metadata": {},
   "outputs": [
    {
     "data": {
      "text/plain": [
       "array([0.89355169, 0.85977482, 0.93858751, 0.72848361, 0.85655738,\n",
       "       0.84631148, 0.85553279, 0.85860656, 0.83196721, 0.73258197])"
      ]
     },
     "execution_count": 16,
     "metadata": {},
     "output_type": "execute_result"
    }
   ],
   "source": [
    "cv = KFold(n_splits=10)\n",
    "cross_val_score(clf, X, y, cv=cv)"
   ]
  },
  {
   "cell_type": "code",
   "execution_count": 17,
   "metadata": {},
   "outputs": [],
   "source": [
    "confusionMatrix = confusion_matrix(y_test, predictions)"
   ]
  },
  {
   "cell_type": "code",
   "execution_count": 18,
   "metadata": {},
   "outputs": [
    {
     "data": {
      "text/plain": [
       "array([[  38,    0,    1,    0,   20,    4,    0],\n",
       "       [   0,    6,    0,    0,   21,    2,    0],\n",
       "       [   0,    0,  110,    0,   17,    0,    0],\n",
       "       [   2,    0,    0,    2,    5,    0,    0],\n",
       "       [   4,    1,    0,    0, 1597,  247,    3],\n",
       "       [   1,    0,    0,    1,   35,  668,    1],\n",
       "       [   4,    0,    0,    0,   35,   45,   59]], dtype=int64)"
      ]
     },
     "execution_count": 18,
     "metadata": {},
     "output_type": "execute_result"
    }
   ],
   "source": [
    "confusionMatrix"
   ]
  },
  {
   "cell_type": "code",
   "execution_count": 19,
   "metadata": {},
   "outputs": [
    {
     "data": {
      "image/png": "[encoded data removed]",
      "text/plain": [
       "<Figure size 576x432 with 2 Axes>"
      ]
     },
     "metadata": {},
     "output_type": "display_data"
    }
   ],
   "source": [
    "plt.figure(figsize=(8,6))\n",
    "sns.heatmap(confusionMatrix,annot=True,cmap='Reds',fmt='.0f')\n",
    "plt.xlabel('Predicted values')\n",
    "plt.ylabel('Actual values')\n",
    "plt.show()"
   ]
  },
  {
   "cell_type": "code",
   "execution_count": 20,
   "metadata": {},
   "outputs": [
    {
     "name": "stdout",
     "output_type": "stream",
     "text": [
      "              precision    recall  f1-score   support\n",
      "\n",
      "      Adware       0.78      0.60      0.68        63\n",
      "       Agent       0.86      0.21      0.33        29\n",
      "    Backdoor       0.99      0.87      0.92       127\n",
      "  Downloader       0.67      0.22      0.33         9\n",
      "      Trojan       0.92      0.86      0.89      1852\n",
      "       Virus       0.69      0.95      0.80       706\n",
      "       Worms       0.94      0.41      0.57       143\n",
      "\n",
      "    accuracy                           0.85      2929\n",
      "   macro avg       0.83      0.59      0.65      2929\n",
      "weighted avg       0.87      0.85      0.84      2929\n",
      "\n"
     ]
    }
   ],
   "source": [
    "classification_report_result = classification_report(y_test,predictions)\n",
    "print(classification_report_result)"
   ]
  },
  {
   "attachments": {},
   "cell_type": "markdown",
   "metadata": {},
   "source": [
    "## Explicacion de metricas obtenidas\n",
    "\n",
    "precision: En este caso para cada categoria de malwares, se puede observar que la que mayor precision fue Backdoor con un 99%, Worms con un 94% y de igual forma Downloader y Virus fueron las que menor precision tuvieron, lo cual nos indica el porcentaje que el modelo logro predecir correctamente para cada categoria de malware. \n",
    "\n",
    "recall: Se puede observar que la categoria de Virus tuvo un mayor recall, siendo este de 95% en relacion a los datos reales, lo cual es bueno y de igual manera el que menor recall tuvo fue Agent, esto se puede deber a la poca cantidad de datos.\n",
    "\n",
    "Acurracy: Se puede observar que el acurracy del modelo es de 85%, por lo que se puede asegurar que gran parte de las categorias de malware se clasifican correctamente."
   ]
  },
  {
   "attachments": {},
   "cell_type": "markdown",
   "metadata": {},
   "source": [
    "## Support Vector Machines"
   ]
  },
  {
   "cell_type": "code",
   "execution_count": 25,
   "metadata": {},
   "outputs": [],
   "source": [
    "#Create a svm Classifier\n",
    "clf = svm.SVC(kernel='linear') # Linear Kernel\n",
    "\n",
    "#Train the model using the training sets\n",
    "clf.fit(X_train, y_train)\n",
    "\n",
    "#Predict the response for test dataset\n",
    "predictions = clf.predict(X_test)"
   ]
  },
  {
   "cell_type": "code",
   "execution_count": 26,
   "metadata": {},
   "outputs": [
    {
     "data": {
      "text/plain": [
       "array([0.87205732, 0.84646878, 0.92630502, 0.63934426, 0.84118852,\n",
       "       0.82684426, 0.84836066, 0.84938525, 0.83094262, 0.58606557])"
      ]
     },
     "execution_count": 26,
     "metadata": {},
     "output_type": "execute_result"
    }
   ],
   "source": [
    "cv = KFold(n_splits=10)\n",
    "cross_val_score(clf, X, y, cv=cv)"
   ]
  },
  {
   "cell_type": "code",
   "execution_count": 27,
   "metadata": {},
   "outputs": [],
   "source": [
    "confusionMatrix = confusion_matrix(y_test, predictions)"
   ]
  },
  {
   "cell_type": "code",
   "execution_count": 28,
   "metadata": {},
   "outputs": [
    {
     "data": {
      "text/plain": [
       "array([[  37,    0,    0,    0,   22,    4,    0],\n",
       "       [   0,    0,    0,    0,   27,    2,    0],\n",
       "       [   0,    0,  110,    0,   16,    0,    1],\n",
       "       [   1,    0,    0,    0,    8,    0,    0],\n",
       "       [   2,    0,    0,    0, 1599,  245,    6],\n",
       "       [   4,    0,    0,    0,   41,  658,    3],\n",
       "       [   4,    0,    0,    0,   57,   44,   38]], dtype=int64)"
      ]
     },
     "execution_count": 28,
     "metadata": {},
     "output_type": "execute_result"
    }
   ],
   "source": [
    "confusionMatrix"
   ]
  },
  {
   "cell_type": "code",
   "execution_count": 29,
   "metadata": {},
   "outputs": [
    {
     "data": {
      "image/png": "[encoded data removed]",
      "text/plain": [
       "<Figure size 576x432 with 2 Axes>"
      ]
     },
     "metadata": {
      "needs_background": "light"
     },
     "output_type": "display_data"
    }
   ],
   "source": [
    "plt.figure(figsize=(8,6))\n",
    "sns.heatmap(confusionMatrix,annot=True,cmap='Reds',fmt='.0f')\n",
    "plt.xlabel('Predicted values')\n",
    "plt.ylabel('Actual values')\n",
    "plt.show()"
   ]
  },
  {
   "cell_type": "code",
   "execution_count": 30,
   "metadata": {},
   "outputs": [
    {
     "name": "stdout",
     "output_type": "stream",
     "text": [
      "              precision    recall  f1-score   support\n",
      "\n",
      "      Adware       0.77      0.59      0.67        63\n",
      "       Agent       0.00      0.00      0.00        29\n",
      "    Backdoor       1.00      0.87      0.93       127\n",
      "  Downloader       0.00      0.00      0.00         9\n",
      "      Trojan       0.90      0.86      0.88      1852\n",
      "       Virus       0.69      0.93      0.79       706\n",
      "       Worms       0.79      0.27      0.40       143\n",
      "\n",
      "    accuracy                           0.83      2929\n",
      "   macro avg       0.59      0.50      0.52      2929\n",
      "weighted avg       0.84      0.83      0.82      2929\n",
      "\n"
     ]
    },
    {
     "name": "stderr",
     "output_type": "stream",
     "text": [
      "C:\\Users\\joopa\\AppData\\Roaming\\Python\\Python39\\site-packages\\sklearn\\metrics\\_classification.py:1327: UndefinedMetricWarning: Precision and F-score are ill-defined and being set to 0.0 in labels with no predicted samples. Use `zero_division` parameter to control this behavior.\n",
      "  _warn_prf(average, modifier, msg_start, len(result))\n",
      "C:\\Users\\joopa\\AppData\\Roaming\\Python\\Python39\\site-packages\\sklearn\\metrics\\_classification.py:1327: UndefinedMetricWarning: Precision and F-score are ill-defined and being set to 0.0 in labels with no predicted samples. Use `zero_division` parameter to control this behavior.\n",
      "  _warn_prf(average, modifier, msg_start, len(result))\n",
      "C:\\Users\\joopa\\AppData\\Roaming\\Python\\Python39\\site-packages\\sklearn\\metrics\\_classification.py:1327: UndefinedMetricWarning: Precision and F-score are ill-defined and being set to 0.0 in labels with no predicted samples. Use `zero_division` parameter to control this behavior.\n",
      "  _warn_prf(average, modifier, msg_start, len(result))\n"
     ]
    }
   ],
   "source": [
    "classification_report_result = classification_report(y_test,predictions)\n",
    "print(classification_report_result)"
   ]
  },
  {
   "attachments": {},
   "cell_type": "markdown",
   "metadata": {},
   "source": [
    "## Explicacion de metricas obtenidas\n",
    "\n",
    "precision: En este caso para cada categoria de malwares, se puede observar que la que mayor precision fue Backdoor con un 100%, Trojan con un 0.90% y de igual forma Agent y Virus fueron las que menor precision tuvieron, lo cual nos indica el porcentaje que el modelo logro predecir correctamente para cada categoria de malware. Hay que tomar en cuenta que para algunos casos la precision fue muy baja debido a la cantidad de datos, como lo es con Downloader.\n",
    "\n",
    "recall: Se puede observar que la categoria de Virus tuvo un mayor recall, siendo este de 0.93 en relacion a los datos reales, lo cual es bueno y de igual manera el que menor recall tuvo fue Worms, esto se puede deber a la poca cantidad de datos.\n",
    "\n",
    "Acurracy: Se puede observar que el acurracy del modelo es de 83%, por lo que se puede asegurar que gran parte de las categorias de malware se clasifican correctamente."
   ]
  },
  {
   "attachments": {},
   "cell_type": "markdown",
   "metadata": {},
   "source": [
    "## Comparacion de Resultados"
   ]
  },
  {
   "attachments": {},
   "cell_type": "markdown",
   "metadata": {},
   "source": [
    "Al comparar los resultados con los del articulo, se puede observar que las metricas que se lograron obtener para el modelo de Random Forest y Support Vector Machines son bastantes buenas, ya que lograron predecir en su mayoria gran cantidad de las categorias de los malwares."
   ]
  }
 ],
 "metadata": {
  "kernelspec": {
   "display_name": "Python 3",
   "language": "python",
   "name": "python3"
  },
  "language_info": {
   "codemirror_mode": {
    "name": "ipython",
    "version": 3
   },
   "file_extension": ".py",
   "mimetype": "text/x-python",
   "name": "python",
   "nbconvert_exporter": "python",
   "pygments_lexer": "ipython3",
   "version": "3.9.2"
  },
  "orig_nbformat": 4
 },
 "nbformat": 4,
 "nbformat_minor": 2
}
